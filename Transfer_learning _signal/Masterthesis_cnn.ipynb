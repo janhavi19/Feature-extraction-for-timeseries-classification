{
 "cells": [
  {
   "cell_type": "code",
   "execution_count": 1,
   "metadata": {},
   "outputs": [],
   "source": [
    "import pandas as pd\n",
    "from sklearn.preprocessing import LabelEncoder\n",
    "import tensorflow.keras as keras\n",
    "import tensorflow as tf\n",
    "import numpy as np"
   ]
  },
  {
   "cell_type": "code",
   "execution_count": null,
   "metadata": {},
   "outputs": [],
   "source": [
    "#loading data\n",
    "data = pd.read_pickle(\"./DataSignal.pkl\")\n"
   ]
  },
  {
   "cell_type": "code",
   "execution_count": 3,
   "metadata": {},
   "outputs": [
    {
     "name": "stdout",
     "output_type": "stream",
     "text": [
      "Model: \"model_1\"\n",
      "_________________________________________________________________\n",
      "Layer (type)                 Output Shape              Param #   \n",
      "=================================================================\n",
      "input_2 (InputLayer)         [(None, 500, 1)]          0         \n",
      "_________________________________________________________________\n",
      "conv1d_3 (Conv1D)            (None, 500, 64)           256       \n",
      "_________________________________________________________________\n",
      "batch_normalization_3 (Batch (None, 500, 64)           256       \n",
      "_________________________________________________________________\n",
      "re_lu_3 (ReLU)               (None, 500, 64)           0         \n",
      "_________________________________________________________________\n",
      "conv1d_4 (Conv1D)            (None, 500, 64)           12352     \n",
      "_________________________________________________________________\n",
      "batch_normalization_4 (Batch (None, 500, 64)           256       \n",
      "_________________________________________________________________\n",
      "re_lu_4 (ReLU)               (None, 500, 64)           0         \n",
      "_________________________________________________________________\n",
      "conv1d_5 (Conv1D)            (None, 500, 64)           12352     \n",
      "_________________________________________________________________\n",
      "batch_normalization_5 (Batch (None, 500, 64)           256       \n",
      "_________________________________________________________________\n",
      "re_lu_5 (ReLU)               (None, 500, 64)           0         \n",
      "_________________________________________________________________\n",
      "global_average_pooling1d_1 ( (None, 64)                0         \n",
      "_________________________________________________________________\n",
      "dense_1 (Dense)              (None, 2)                 130       \n",
      "=================================================================\n",
      "Total params: 25,858\n",
      "Trainable params: 25,474\n",
      "Non-trainable params: 384\n",
      "_________________________________________________________________\n"
     ]
    }
   ],
   "source": [
    "#loading the model based on Fawaz, Hassan Ismail, et al. \"Transfer learning for time series classification.\" 2018 IEEE international conference on big data (Big Data) . IEEE, 2018.\n",
    "num_classes =2\n",
    "def make_model(input_shape):\n",
    "    input_layer = keras.layers.Input(input_shape)\n",
    "\n",
    "    conv1 = keras.layers.Conv1D(filters=64, kernel_size=3, padding=\"same\")(input_layer)\n",
    "    conv1 = keras.layers.BatchNormalization()(conv1)\n",
    "    conv1 = keras.layers.ReLU()(conv1)\n",
    "\n",
    "    conv2 = keras.layers.Conv1D(filters=64, kernel_size=3, padding=\"same\")(conv1)\n",
    "    conv2 = keras.layers.BatchNormalization()(conv2)\n",
    "    conv2 = keras.layers.ReLU()(conv2)\n",
    "\n",
    "    conv3 = keras.layers.Conv1D(filters=64, kernel_size=3, padding=\"same\")(conv2)\n",
    "    conv3 = keras.layers.BatchNormalization()(conv3)\n",
    "    conv3 = keras.layers.ReLU()(conv3)\n",
    "\n",
    "    gap = keras.layers.GlobalAveragePooling1D()(conv3)\n",
    "\n",
    "    output_layer = keras.layers.Dense(num_classes, activation=\"softmax\")(gap)\n",
    "\n",
    "    return keras.models.Model(inputs=input_layer, outputs=output_layer)\n",
    "\n",
    "model = make_model((500, 1))\n",
    "model.summary()"
   ]
  },
  {
   "cell_type": "code",
   "execution_count": 55,
   "metadata": {},
   "outputs": [],
   "source": [
    "#loading model weights\n",
    "model.load_weights('/home/dell/Documents/master_thesis/best_model.h5')\n"
   ]
  },
  {
   "cell_type": "code",
   "execution_count": 56,
   "metadata": {},
   "outputs": [
    {
     "name": "stdout",
     "output_type": "stream",
     "text": [
      "<tensorflow.python.keras.engine.input_layer.InputLayer object at 0x7fd58c441208> False\n",
      "<tensorflow.python.keras.layers.convolutional.Conv1D object at 0x7fd5b82f6438> False\n",
      "<tensorflow.python.keras.layers.normalization_v2.BatchNormalization object at 0x7fd58c4416a0> False\n",
      "<tensorflow.python.keras.layers.advanced_activations.ReLU object at 0x7fd58c4419e8> False\n",
      "<tensorflow.python.keras.layers.convolutional.Conv1D object at 0x7fd5942bef98> False\n",
      "<tensorflow.python.keras.layers.normalization_v2.BatchNormalization object at 0x7fd58c460400> False\n",
      "<tensorflow.python.keras.layers.advanced_activations.ReLU object at 0x7fd58c4606d8> False\n",
      "<tensorflow.python.keras.layers.convolutional.Conv1D object at 0x7fd58c467668> False\n",
      "<tensorflow.python.keras.layers.normalization_v2.BatchNormalization object at 0x7fd58c403198> False\n",
      "<tensorflow.python.keras.layers.advanced_activations.ReLU object at 0x7fd58c4034e0> False\n",
      "<tensorflow.python.keras.layers.pooling.GlobalAveragePooling1D object at 0x7fd58c408470> False\n",
      "<tensorflow.python.keras.layers.core.Dense object at 0x7fd58c414ef0> True\n"
     ]
    }
   ],
   "source": [
    "#freezing feature extraction part of the network\n",
    "for layer in model.layers[:-1]:\n",
    "    layer.trainable=False\n",
    "for layer in model.layers:\n",
    "    print(layer,layer.trainable)"
   ]
  },
  {
   "cell_type": "code",
   "execution_count": 65,
   "metadata": {},
   "outputs": [
    {
     "name": "stdout",
     "output_type": "stream",
     "text": [
      "Model: \"sequential_5\"\n",
      "_________________________________________________________________\n",
      "Layer (type)                 Output Shape              Param #   \n",
      "=================================================================\n",
      "functional_3 (Functional)    (None, 2)                 25858     \n",
      "_________________________________________________________________\n",
      "dense_5 (Dense)              (None, 1)                 3         \n",
      "=================================================================\n",
      "Total params: 25,861\n",
      "Trainable params: 133\n",
      "Non-trainable params: 25,728\n",
      "_________________________________________________________________\n"
     ]
    }
   ],
   "source": [
    "from keras.models import Sequential\n",
    "from keras.layers import Dense, Dropout, Flatten, Convolution1D, MaxPooling1D\n",
    "model2=Sequential()\n",
    "model2.add(model)\n",
    "model2.add(Dense(1,activation='sigmoid'))\n",
    "model2.summary()"
   ]
  },
  {
   "cell_type": "code",
   "execution_count": 48,
   "metadata": {},
   "outputs": [
    {
     "name": "stdout",
     "output_type": "stream",
     "text": [
      "(4784, 3411)\n",
      "(4784,)\n"
     ]
    }
   ],
   "source": [
    "#Data preprocessing\n",
    "data_F40 = data.loc[((data['Status'] == \"OK\")|(data['Status'] == \"NOK\"))&(data['Model'] == \"F40\")]\n",
    "\n",
    "X_test = data_F40['Acc'].to_numpy()\n",
    "\n",
    "X_test = np.array(X_test.tolist())\n",
    "\n",
    "#X_test = np.reshape(x_test_temp, (x_test_temp.shape[0], x_test_temp.shape[1], 1))\n",
    "y_test = LabelEncoder().fit_transform(data_files_all['Status'].to_numpy())\n",
    "\n",
    "print(X_test.shape)\n",
    "print(y_test.shape)"
   ]
  },
  {
   "cell_type": "code",
   "execution_count": 50,
   "metadata": {},
   "outputs": [],
   "source": [
    "from sklearn.model_selection import train_test_split\n",
    "xtrain,xval,ytrain,yval=train_test_split(X_test,y_test,test_size=0.2,random_state=42)\n",
    "\n",
    "xtrain=tf.convert_to_tensor(xtrain)\n",
    "ytrain=tf.convert_to_tensor(ytrain)\n",
    "xval=tf.convert_to_tensor(xval)\n",
    "yval=tf.convert_to_tensor(yval)"
   ]
  },
  {
   "cell_type": "code",
   "execution_count": 68,
   "metadata": {},
   "outputs": [
    {
     "name": "stdout",
     "output_type": "stream",
     "text": [
      "Epoch 1/10\n",
      "WARNING:tensorflow:Model was constructed with shape (None, 500, 1) for input Tensor(\"functional_3_input_2:0\", shape=(None, 500, 1), dtype=float32), but it was called on an input with incompatible shape (None, 3411, 1).\n"
     ]
    },
    {
     "name": "stderr",
     "output_type": "stream",
     "text": [
      "WARNING:tensorflow:Model was constructed with shape (None, 500, 1) for input Tensor(\"functional_3_input_2:0\", shape=(None, 500, 1), dtype=float32), but it was called on an input with incompatible shape (None, 3411, 1).\n"
     ]
    },
    {
     "name": "stdout",
     "output_type": "stream",
     "text": [
      "WARNING:tensorflow:Model was constructed with shape (None, 500, 1) for input Tensor(\"input_2:0\", shape=(None, 500, 1), dtype=float32), but it was called on an input with incompatible shape (None, 3411, 1).\n"
     ]
    },
    {
     "name": "stderr",
     "output_type": "stream",
     "text": [
      "WARNING:tensorflow:Model was constructed with shape (None, 500, 1) for input Tensor(\"input_2:0\", shape=(None, 500, 1), dtype=float32), but it was called on an input with incompatible shape (None, 3411, 1).\n"
     ]
    },
    {
     "name": "stdout",
     "output_type": "stream",
     "text": [
      "WARNING:tensorflow:Model was constructed with shape (None, 500, 1) for input Tensor(\"functional_3_input_2:0\", shape=(None, 500, 1), dtype=float32), but it was called on an input with incompatible shape (None, 3411, 1).\n"
     ]
    },
    {
     "name": "stderr",
     "output_type": "stream",
     "text": [
      "WARNING:tensorflow:Model was constructed with shape (None, 500, 1) for input Tensor(\"functional_3_input_2:0\", shape=(None, 500, 1), dtype=float32), but it was called on an input with incompatible shape (None, 3411, 1).\n"
     ]
    },
    {
     "name": "stdout",
     "output_type": "stream",
     "text": [
      "WARNING:tensorflow:Model was constructed with shape (None, 500, 1) for input Tensor(\"input_2:0\", shape=(None, 500, 1), dtype=float32), but it was called on an input with incompatible shape (None, 3411, 1).\n"
     ]
    },
    {
     "name": "stderr",
     "output_type": "stream",
     "text": [
      "WARNING:tensorflow:Model was constructed with shape (None, 500, 1) for input Tensor(\"input_2:0\", shape=(None, 500, 1), dtype=float32), but it was called on an input with incompatible shape (None, 3411, 1).\n"
     ]
    },
    {
     "name": "stdout",
     "output_type": "stream",
     "text": [
      "120/120 [==============================] - 7s 62ms/step - loss: nan - accuracy: 0.0510\n",
      "Epoch 2/10\n",
      "120/120 [==============================] - 8s 63ms/step - loss: nan - accuracy: 0.0510\n",
      "Epoch 3/10\n",
      "120/120 [==============================] - 8s 63ms/step - loss: nan - accuracy: 0.0510\n",
      "Epoch 4/10\n",
      "120/120 [==============================] - 7s 61ms/step - loss: nan - accuracy: 0.0510\n",
      "Epoch 5/10\n",
      "120/120 [==============================] - 7s 60ms/step - loss: nan - accuracy: 0.0510\n",
      "Epoch 6/10\n",
      "120/120 [==============================] - 7s 59ms/step - loss: nan - accuracy: 0.0510\n",
      "Epoch 7/10\n",
      "120/120 [==============================] - 8s 63ms/step - loss: nan - accuracy: 0.0510\n",
      "Epoch 8/10\n",
      "120/120 [==============================] - 8s 67ms/step - loss: nan - accuracy: 0.0510\n",
      "Epoch 9/10\n",
      "120/120 [==============================] - 8s 64ms/step - loss: nan - accuracy: 0.0510\n",
      "Epoch 10/10\n",
      "120/120 [==============================] - 8s 64ms/step - loss: nan - accuracy: 0.0510\n"
     ]
    },
    {
     "data": {
      "text/plain": [
       "<tensorflow.python.keras.callbacks.History at 0x7fd551a3b7b8>"
      ]
     },
     "execution_count": 68,
     "metadata": {},
     "output_type": "execute_result"
    }
   ],
   "source": [
    "#Training the model\n",
    "model2.compile(loss='binary_crossentropy', optimizer='adam', metrics=['accuracy'])\n",
    "model2.fit(xtrain,ytrain, epochs=10)"
   ]
  },
  {
   "cell_type": "code",
   "execution_count": 69,
   "metadata": {},
   "outputs": [
    {
     "name": "stdout",
     "output_type": "stream",
     "text": [
      "WARNING:tensorflow:Model was constructed with shape (None, 500, 1) for input Tensor(\"functional_3_input_2:0\", shape=(None, 500, 1), dtype=float32), but it was called on an input with incompatible shape (None, 3411, 1).\n"
     ]
    },
    {
     "name": "stderr",
     "output_type": "stream",
     "text": [
      "WARNING:tensorflow:Model was constructed with shape (None, 500, 1) for input Tensor(\"functional_3_input_2:0\", shape=(None, 500, 1), dtype=float32), but it was called on an input with incompatible shape (None, 3411, 1).\n"
     ]
    },
    {
     "name": "stdout",
     "output_type": "stream",
     "text": [
      "WARNING:tensorflow:Model was constructed with shape (None, 500, 1) for input Tensor(\"input_2:0\", shape=(None, 500, 1), dtype=float32), but it was called on an input with incompatible shape (None, 3411, 1).\n"
     ]
    },
    {
     "name": "stderr",
     "output_type": "stream",
     "text": [
      "WARNING:tensorflow:Model was constructed with shape (None, 500, 1) for input Tensor(\"input_2:0\", shape=(None, 500, 1), dtype=float32), but it was called on an input with incompatible shape (None, 3411, 1).\n"
     ]
    },
    {
     "name": "stdout",
     "output_type": "stream",
     "text": [
      "WARNING:tensorflow:Model was constructed with shape (None, 500, 1) for input Tensor(\"functional_3_input_2:0\", shape=(None, 500, 1), dtype=float32), but it was called on an input with incompatible shape (None, 3411, 1).\n"
     ]
    },
    {
     "name": "stderr",
     "output_type": "stream",
     "text": [
      "WARNING:tensorflow:Model was constructed with shape (None, 500, 1) for input Tensor(\"functional_3_input_2:0\", shape=(None, 500, 1), dtype=float32), but it was called on an input with incompatible shape (None, 3411, 1).\n"
     ]
    },
    {
     "name": "stdout",
     "output_type": "stream",
     "text": [
      "WARNING:tensorflow:Model was constructed with shape (None, 500, 1) for input Tensor(\"input_2:0\", shape=(None, 500, 1), dtype=float32), but it was called on an input with incompatible shape (None, 3411, 1).\n"
     ]
    },
    {
     "name": "stderr",
     "output_type": "stream",
     "text": [
      "WARNING:tensorflow:Model was constructed with shape (None, 500, 1) for input Tensor(\"input_2:0\", shape=(None, 500, 1), dtype=float32), but it was called on an input with incompatible shape (None, 3411, 1).\n"
     ]
    },
    {
     "name": "stdout",
     "output_type": "stream",
     "text": [
      "WARNING:tensorflow:Model was constructed with shape (None, 500, 1) for input Tensor(\"functional_3_input_2:0\", shape=(None, 500, 1), dtype=float32), but it was called on an input with incompatible shape (None, 3411, 1).\n"
     ]
    },
    {
     "name": "stderr",
     "output_type": "stream",
     "text": [
      "WARNING:tensorflow:Model was constructed with shape (None, 500, 1) for input Tensor(\"functional_3_input_2:0\", shape=(None, 500, 1), dtype=float32), but it was called on an input with incompatible shape (None, 3411, 1).\n"
     ]
    },
    {
     "name": "stdout",
     "output_type": "stream",
     "text": [
      "WARNING:tensorflow:Model was constructed with shape (None, 500, 1) for input Tensor(\"input_2:0\", shape=(None, 500, 1), dtype=float32), but it was called on an input with incompatible shape (None, 3411, 1).\n"
     ]
    },
    {
     "name": "stderr",
     "output_type": "stream",
     "text": [
      "WARNING:tensorflow:Model was constructed with shape (None, 500, 1) for input Tensor(\"input_2:0\", shape=(None, 500, 1), dtype=float32), but it was called on an input with incompatible shape (None, 3411, 1).\n"
     ]
    },
    {
     "name": "stdout",
     "output_type": "stream",
     "text": [
      "30/30 [==============================] - 2s 61ms/step - loss: nan - accuracy: 0.0449\n",
      "\n",
      "Loss: nan, Accuracy: 4.49%\n"
     ]
    }
   ],
   "source": [
    "y_pred = model2.predict(xval)\n",
    "\n",
    "\n",
    "\n",
    "model2.compile(loss='binary_crossentropy', optimizer='adam', metrics=['accuracy'])\n",
    "loss, accuracy= model2.evaluate(xval,yval)\n",
    "\n",
    "print('\\nLoss: %.2f, Accuracy: %.2f%%' %(loss,accuracy*100) )"
   ]
  },
  {
   "cell_type": "code",
   "execution_count": 81,
   "metadata": {},
   "outputs": [
    {
     "name": "stdout",
     "output_type": "stream",
     "text": [
      "(3827, 500, 1)\n"
     ]
    }
   ],
   "source": [
    "input_shape=(500,1)\n",
    "X_train_resized = []\n",
    "for x in xtrain:\n",
    "    X_train_resized.append(np.resize(x, input_shape))\n",
    "\n",
    "X_train_resized = np.array(X_train_resized)\n",
    "\n",
    "print(X_train_resized.shape)\n",
    "# resize test set\n",
    "X_test_resized = []\n",
    "for x in xval:\n",
    "    X_test_resized.append(np.resize(x, input_shape))\n",
    "X_test_resized = np.array(X_test_resized)"
   ]
  },
  {
   "cell_type": "code",
   "execution_count": 76,
   "metadata": {},
   "outputs": [
    {
     "name": "stdout",
     "output_type": "stream",
     "text": [
      "Epoch 1/10\n",
      "120/120 [==============================] - 1s 8ms/step - loss: nan - accuracy: 0.0510\n",
      "Epoch 2/10\n",
      "120/120 [==============================] - 1s 9ms/step - loss: nan - accuracy: 0.0510\n",
      "Epoch 3/10\n",
      "120/120 [==============================] - 1s 9ms/step - loss: nan - accuracy: 0.0510\n",
      "Epoch 4/10\n",
      "120/120 [==============================] - 1s 9ms/step - loss: nan - accuracy: 0.0510\n",
      "Epoch 5/10\n",
      "120/120 [==============================] - 1s 9ms/step - loss: nan - accuracy: 0.0510\n",
      "Epoch 6/10\n",
      "120/120 [==============================] - 1s 9ms/step - loss: nan - accuracy: 0.0510\n",
      "Epoch 7/10\n",
      "120/120 [==============================] - 1s 10ms/step - loss: nan - accuracy: 0.0510\n",
      "Epoch 8/10\n",
      "120/120 [==============================] - 1s 9ms/step - loss: nan - accuracy: 0.0510A: 0s - loss: na\n",
      "Epoch 9/10\n",
      "120/120 [==============================] - 1s 9ms/step - loss: nan - accuracy: 0.0510\n",
      "Epoch 10/10\n",
      "120/120 [==============================] - 1s 9ms/step - loss: nan - accuracy: 0.0510\n"
     ]
    },
    {
     "data": {
      "text/plain": [
       "<tensorflow.python.keras.callbacks.History at 0x7fd5513d1fd0>"
      ]
     },
     "execution_count": 76,
     "metadata": {},
     "output_type": "execute_result"
    }
   ],
   "source": [
    "model2.compile(loss='binary_crossentropy', optimizer='adam', metrics=['accuracy'])\n",
    "model2.fit(X_train_resized,ytrain, epochs=10)"
   ]
  },
  {
   "cell_type": "code",
   "execution_count": 82,
   "metadata": {},
   "outputs": [
    {
     "name": "stdout",
     "output_type": "stream",
     "text": [
      "30/30 [==============================] - 0s 7ms/step - loss: nan - accuracy: 0.0449\n",
      "\n",
      "Loss: nan, Accuracy: 4.49%\n"
     ]
    }
   ],
   "source": [
    "y_pred = model2.predict(X_test_resized)\n",
    "\n",
    "\n",
    "\n",
    "model2.compile(loss='binary_crossentropy', optimizer='adam', metrics=['accuracy'])\n",
    "loss, accuracy= model2.evaluate(X_test_resized,yval)\n",
    "\n",
    "print('\\nLoss: %.2f, Accuracy: %.2f%%' %(loss,accuracy*100) )"
   ]
  },
  {
   "cell_type": "code",
   "execution_count": null,
   "metadata": {},
   "outputs": [],
   "source": []
  }
 ],
 "metadata": {
  "kernelspec": {
   "display_name": "Python 3",
   "language": "python",
   "name": "python3"
  },
  "language_info": {
   "codemirror_mode": {
    "name": "ipython",
    "version": 3
   },
   "file_extension": ".py",
   "mimetype": "text/x-python",
   "name": "python",
   "nbconvert_exporter": "python",
   "pygments_lexer": "ipython3",
   "version": "3.6.13"
  }
 },
 "nbformat": 4,
 "nbformat_minor": 2
}
