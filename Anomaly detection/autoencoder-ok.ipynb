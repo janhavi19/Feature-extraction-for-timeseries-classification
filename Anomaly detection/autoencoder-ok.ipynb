{
 "cells": [
  {
   "cell_type": "code",
   "execution_count": 1,
   "metadata": {
    "id": "5vzj7UuSFM5l"
   },
   "outputs": [],
   "source": [
    "import pandas as pd\n",
    "import numpy as np\n",
    "\n",
    "from tensorflow import keras\n",
    "from tensorflow.python.keras.layers import Input, Dense,RepeatVector, TimeDistributed, Dense, Dropout, LSTM\n",
    "from tensorflow.python.keras.models import Sequential\n",
    "import tensorflow as tf\n",
    "import matplotlib.pyplot as plt\n",
    "%matplotlib inline\n",
    "import matplotlib.pyplot as plt\n",
    "import seaborn as sns\n",
    "import sklearn\n",
    "from sklearn.preprocessing import StandardScaler\n",
    "from sklearn.model_selection import train_test_split\n",
    "from sklearn.preprocessing import LabelEncoder\n",
    "\n",
    "from sklearn.metrics import confusion_matrix, recall_score, accuracy_score, precision_score\n",
    "from sklearn.metrics import confusion_matrix, recall_score, accuracy_score, precision_score\n"
   ]
  },
  {
   "cell_type": "code",
   "execution_count": 2,
   "metadata": {
    "id": "-KRIOhKsHCWI"
   },
   "outputs": [],
   "source": [
    "def conv_array(array):\n",
    "    result=[]\n",
    "    for r in array:\n",
    "        result.append(r)\n",
    "    return np.asarray(result)\n",
    "\n",
    "def SSIMLoss(y_true, y_pred):\n",
    "    return 1 - tf.reduce_mean(tf.image.ssim(y_true, y_pred,1.0))"
   ]
  },
  {
   "cell_type": "code",
   "execution_count": 3,
   "metadata": {
    "id": "CPQpVuDBFZxA"
   },
   "outputs": [],
   "source": [
    "data = pd.read_pickle(\"./DataSignal.pkl\")\n",
    "df_f40=data.loc[((data['Status'] == \"OK\")|(data['Status'] == \"NOK\"))&(data['Model'] == \"F40\")]\n",
    "\n",
    "df_OK = df_f40.loc[(df_f40['Status']==\"OK\")]\n",
    "df_NOK = df_f40.loc[(df_f40['Status']==\"NOK\")]\n",
    "\n",
    "x_train = conv_array(df_OK['Vel'])\n",
    "x_test = conv_array(df_NOK['Vel'])\n",
    "y_train = np.asarray([1]*(len(df_OK['Status'])))\n",
    "y_test = np.asarray([0]*(len(df_NOK['Status'])))\n",
    "\n"
   ]
  },
  {
   "cell_type": "code",
   "execution_count": 4,
   "metadata": {
    "colab": {
     "base_uri": "https://localhost:8080/"
    },
    "id": "VvrGMY4oJiCT",
    "outputId": "cee7be70-2c49-4e60-c6a2-759e76634331"
   },
   "outputs": [
    {
     "name": "stdout",
     "output_type": "stream",
     "text": [
      "(2313, 3500)\n",
      "(2313,)\n",
      "(141, 3500)\n",
      "(141,)\n"
     ]
    }
   ],
   "source": [
    "print(x_train.shape)\n",
    "print(y_train.shape)\n",
    "print(x_test.shape)\n",
    "print(y_test.shape)\n",
    "\n"
   ]
  },
  {
   "cell_type": "code",
   "execution_count": 5,
   "metadata": {
    "id": "OYGO1uUUveTJ"
   },
   "outputs": [],
   "source": [
    "from sklearn.model_selection import train_test_split\n",
    "\n",
    "pos = conv_array(df_f40['Pos'])\n",
    "\n",
    "\n",
    "y = conv_array(df_f40['Status'])\n",
    "lb = LabelEncoder()\n",
    "y = lb.fit_transform(y)\n",
    "\n",
    "\n",
    "X_t, X_te, y_t, y_te = train_test_split(pos, y, test_size=0.33, random_state=42)"
   ]
  },
  {
   "cell_type": "code",
   "execution_count": 6,
   "metadata": {
    "id": "HOIMwX9eiKQk"
   },
   "outputs": [],
   "source": [
    "nb_epoch = 50\n",
    "batch_size = 10\n",
    "input_dim =3500 #num of columns, 30\n",
    "encoding_dim = 1000\n",
    "hidden_dim_1 = int(encoding_dim / 2) #\n",
    "hidden_dim_2=90 \n",
    "learning_rate = 1e-7"
   ]
  },
  {
   "cell_type": "code",
   "execution_count": 7,
   "metadata": {
    "colab": {
     "base_uri": "https://localhost:8080/"
    },
    "id": "MFTKjApAGt7E",
    "outputId": "d4a4c9af-f014-4449-b7df-11b451e652b8"
   },
   "outputs": [
    {
     "name": "stdout",
     "output_type": "stream",
     "text": [
      "Model: \"model\"\n",
      "_________________________________________________________________\n",
      "Layer (type)                 Output Shape              Param #   \n",
      "=================================================================\n",
      "input_1 (InputLayer)         [(None, 3500)]            0         \n",
      "_________________________________________________________________\n",
      "dense (Dense)                (None, 1000)              3501000   \n",
      "_________________________________________________________________\n",
      "dropout (Dropout)            (None, 1000)              0         \n",
      "_________________________________________________________________\n",
      "dense_1 (Dense)              (None, 500)               500500    \n",
      "_________________________________________________________________\n",
      "dense_2 (Dense)              (None, 90)                45090     \n",
      "_________________________________________________________________\n",
      "dense_3 (Dense)              (None, 500)               45500     \n",
      "_________________________________________________________________\n",
      "dropout_1 (Dropout)          (None, 500)               0         \n",
      "_________________________________________________________________\n",
      "dense_4 (Dense)              (None, 1000)              501000    \n",
      "_________________________________________________________________\n",
      "dense_5 (Dense)              (None, 3500)              3503500   \n",
      "=================================================================\n",
      "Total params: 8,096,590\n",
      "Trainable params: 8,096,590\n",
      "Non-trainable params: 0\n",
      "_________________________________________________________________\n"
     ]
    }
   ],
   "source": [
    "#input Layer\n",
    "input_layer = tf.keras.layers.Input(shape=(input_dim, ))\n",
    "#Encoder\n",
    "encoder = tf.keras.layers.Dense(encoding_dim, activation=\"tanh\",activity_regularizer=tf.keras.regularizers.l2(learning_rate))(input_layer)\n",
    "encoder=tf.keras.layers.Dropout(0.2)(encoder)\n",
    "encoder = tf.keras.layers.Dense(hidden_dim_1, activation='relu')(encoder)\n",
    "encoder = tf.keras.layers.Dense(hidden_dim_2, activation=tf.nn.leaky_relu)(encoder)\n",
    "# Decoder\n",
    "decoder = tf.keras.layers.Dense(hidden_dim_1, activation='relu')(encoder)\n",
    "decoder=tf.keras.layers.Dropout(0.2)(decoder)\n",
    "decoder = tf.keras.layers.Dense(encoding_dim, activation='relu')(decoder)\n",
    "decoder = tf.keras.layers.Dense(input_dim, activation='tanh')(decoder)\n",
    "#Autoencoder\n",
    "autoencoder = tf.keras.Model(inputs=input_layer, outputs=decoder)\n",
    "autoencoder.summary()"
   ]
  },
  {
   "cell_type": "code",
   "execution_count": 10,
   "metadata": {
    "id": "PlGaFfGCOoKw"
   },
   "outputs": [],
   "source": [
    "autoencoder.compile(metrics=['accuracy'],\n",
    "                    loss='mse',\n",
    "                    optimizer='adam')"
   ]
  },
  {
   "cell_type": "code",
   "execution_count": 11,
   "metadata": {
    "colab": {
     "base_uri": "https://localhost:8080/"
    },
    "id": "zmgKyctlRoMo",
    "outputId": "1e253c52-554e-49a8-cc09-0494f58353de"
   },
   "outputs": [
    {
     "name": "stdout",
     "output_type": "stream",
     "text": [
      "Epoch 1/30\n",
      "232/232 [==============================] - 30s 68ms/step - loss: 0.0021 - accuracy: 0.0627 - val_loss: nan - val_accuracy: 6.0827e-04\n",
      "Epoch 2/30\n",
      "232/232 [==============================] - 16s 68ms/step - loss: 0.0020 - accuracy: 0.0519 - val_loss: nan - val_accuracy: 6.0827e-04\n",
      "Epoch 3/30\n",
      "232/232 [==============================] - 17s 72ms/step - loss: 0.0020 - accuracy: 0.0553 - val_loss: nan - val_accuracy: 6.0827e-04\n",
      "Epoch 4/30\n",
      "232/232 [==============================] - 16s 70ms/step - loss: 0.0021 - accuracy: 0.0636 - val_loss: nan - val_accuracy: 6.0827e-04\n",
      "Epoch 5/30\n",
      "232/232 [==============================] - 15s 67ms/step - loss: 0.0020 - accuracy: 0.0623 - val_loss: nan - val_accuracy: 6.0827e-04\n",
      "Epoch 6/30\n",
      "232/232 [==============================] - 18s 76ms/step - loss: 0.0028 - accuracy: 0.0653 - val_loss: nan - val_accuracy: 6.0827e-04\n",
      "Epoch 7/30\n",
      "232/232 [==============================] - 18s 78ms/step - loss: 0.0023 - accuracy: 0.0562 - val_loss: nan - val_accuracy: 6.0827e-04\n",
      "Epoch 8/30\n",
      "232/232 [==============================] - 18s 77ms/step - loss: 0.0022 - accuracy: 0.0588 - val_loss: nan - val_accuracy: 6.0827e-04\n",
      "Epoch 9/30\n",
      "232/232 [==============================] - 18s 76ms/step - loss: 0.0025 - accuracy: 0.0553 - val_loss: nan - val_accuracy: 6.0827e-04\n",
      "Epoch 10/30\n",
      "232/232 [==============================] - 17s 75ms/step - loss: 0.0023 - accuracy: 0.0605 - val_loss: nan - val_accuracy: 6.0827e-04\n",
      "Epoch 11/30\n",
      "232/232 [==============================] - 16s 70ms/step - loss: 0.0022 - accuracy: 0.0618 - val_loss: nan - val_accuracy: 6.0827e-04\n",
      "Epoch 12/30\n",
      "232/232 [==============================] - 17s 73ms/step - loss: 0.0021 - accuracy: 0.0605 - val_loss: nan - val_accuracy: 6.0827e-04\n",
      "Epoch 13/30\n",
      "232/232 [==============================] - 17s 73ms/step - loss: 0.0021 - accuracy: 0.0562 - val_loss: nan - val_accuracy: 6.0827e-04\n",
      "Epoch 14/30\n",
      "232/232 [==============================] - 17s 72ms/step - loss: 0.0020 - accuracy: 0.0644 - val_loss: nan - val_accuracy: 6.0827e-04\n",
      "Epoch 15/30\n",
      "232/232 [==============================] - 17s 73ms/step - loss: 0.0021 - accuracy: 0.0649 - val_loss: nan - val_accuracy: 6.0827e-04\n",
      "Epoch 16/30\n",
      "232/232 [==============================] - 18s 76ms/step - loss: 0.0021 - accuracy: 0.0649 - val_loss: nan - val_accuracy: 6.0827e-04\n",
      "Epoch 17/30\n",
      "232/232 [==============================] - 18s 76ms/step - loss: 0.0021 - accuracy: 0.0631 - val_loss: nan - val_accuracy: 6.0827e-04\n",
      "Epoch 18/30\n",
      "232/232 [==============================] - 19s 80ms/step - loss: 0.0021 - accuracy: 0.0588 - val_loss: nan - val_accuracy: 6.0827e-04\n",
      "Epoch 19/30\n",
      "232/232 [==============================] - 18s 78ms/step - loss: 0.0020 - accuracy: 0.0592 - val_loss: nan - val_accuracy: 6.0827e-04\n",
      "Epoch 20/30\n",
      "232/232 [==============================] - 18s 78ms/step - loss: 0.0020 - accuracy: 0.0653 - val_loss: nan - val_accuracy: 6.0827e-04\n",
      "Epoch 21/30\n",
      "232/232 [==============================] - 15s 65ms/step - loss: 0.0020 - accuracy: 0.0575 - val_loss: nan - val_accuracy: 6.0827e-04\n",
      "Epoch 22/30\n",
      "232/232 [==============================] - 17s 72ms/step - loss: 0.0020 - accuracy: 0.0649 - val_loss: nan - val_accuracy: 6.0827e-04\n",
      "Epoch 23/30\n",
      "232/232 [==============================] - 17s 73ms/step - loss: 0.0019 - accuracy: 0.0666 - val_loss: nan - val_accuracy: 6.0827e-04\n",
      "Epoch 24/30\n",
      "232/232 [==============================] - 18s 76ms/step - loss: 0.0019 - accuracy: 0.0683 - val_loss: nan - val_accuracy: 6.0827e-04\n",
      "Epoch 25/30\n",
      "232/232 [==============================] - 19s 81ms/step - loss: 0.0021 - accuracy: 0.0636 - val_loss: nan - val_accuracy: 6.0827e-04\n",
      "Epoch 26/30\n",
      "232/232 [==============================] - 18s 77ms/step - loss: 0.0020 - accuracy: 0.0653 - val_loss: nan - val_accuracy: 6.0827e-04\n",
      "Epoch 27/30\n",
      "232/232 [==============================] - 17s 74ms/step - loss: 0.0019 - accuracy: 0.0692 - val_loss: nan - val_accuracy: 6.0827e-04\n",
      "Epoch 28/30\n",
      "232/232 [==============================] - 17s 74ms/step - loss: 0.0021 - accuracy: 0.0575 - val_loss: nan - val_accuracy: 6.0827e-04\n",
      "Epoch 29/30\n",
      "232/232 [==============================] - 17s 75ms/step - loss: 0.0023 - accuracy: 0.0566 - val_loss: nan - val_accuracy: 6.0827e-04\n",
      "Epoch 30/30\n",
      "232/232 [==============================] - 18s 75ms/step - loss: 0.0021 - accuracy: 0.0649 - val_loss: nan - val_accuracy: 6.0827e-04\n"
     ]
    }
   ],
   "source": [
    "history = autoencoder.fit(x_train , x_train ,\n",
    "                    epochs=30,\n",
    "                    batch_size=batch_size,\n",
    "                    validation_data=(X_t, X_t),\n",
    "                    shuffle=True)"
   ]
  },
  {
   "cell_type": "code",
   "execution_count": 12,
   "metadata": {},
   "outputs": [
    {
     "data": {
      "image/png": "[encoded data removed]",
      "text/plain": [
       "<Figure size 432x288 with 1 Axes>"
      ]
     },
     "metadata": {
      "needs_background": "light"
     },
     "output_type": "display_data"
    }
   ],
   "source": [
    "plt.plot(autoencoder.history.history['loss'], linewidth=2, label='Train')\n",
    "plt.plot(autoencoder.history.history['val_loss'], linewidth=2, label='Valid')\n",
    "plt.legend(loc='upper right')\n",
    "plt.title('Model loss')\n",
    "plt.ylabel('Loss')\n",
    "plt.xlabel('Epoch')\n",
    "plt.show()"
   ]
  },
  {
   "cell_type": "markdown",
   "metadata": {},
   "source": [
    "The loss funtion shows reptative behavior of input data"
   ]
  },
  {
   "cell_type": "code",
   "execution_count": 14,
   "metadata": {
    "id": "oigVt2y1nd3H"
   },
   "outputs": [
    {
     "name": "stderr",
     "output_type": "stream",
     "text": [
      "/home/admin/anaconda3/envs/tf-2/lib/python3.6/site-packages/ipykernel_launcher.py:2: RuntimeWarning: invalid value encountered in subtract\n",
      "  \n"
     ]
    },
    {
     "data": {
      "text/html": [
       "<div>\n",
       "<style scoped>\n",
       "    .dataframe tbody tr th:only-of-type {\n",
       "        vertical-align: middle;\n",
       "    }\n",
       "\n",
       "    .dataframe tbody tr th {\n",
       "        vertical-align: top;\n",
       "    }\n",
       "\n",
       "    .dataframe thead th {\n",
       "        text-align: right;\n",
       "    }\n",
       "</style>\n",
       "<table border=\"1\" class=\"dataframe\">\n",
       "  <thead>\n",
       "    <tr style=\"text-align: right;\">\n",
       "      <th></th>\n",
       "      <th>Reconstruction_error</th>\n",
       "      <th>True_class</th>\n",
       "    </tr>\n",
       "  </thead>\n",
       "  <tbody>\n",
       "    <tr>\n",
       "      <th>6</th>\n",
       "      <td>326.288641</td>\n",
       "      <td>0</td>\n",
       "    </tr>\n",
       "    <tr>\n",
       "      <th>23</th>\n",
       "      <td>385.520368</td>\n",
       "      <td>0</td>\n",
       "    </tr>\n",
       "    <tr>\n",
       "      <th>25</th>\n",
       "      <td>431.415621</td>\n",
       "      <td>0</td>\n",
       "    </tr>\n",
       "    <tr>\n",
       "      <th>109</th>\n",
       "      <td>395.242326</td>\n",
       "      <td>0</td>\n",
       "    </tr>\n",
       "    <tr>\n",
       "      <th>141</th>\n",
       "      <td>1093.242774</td>\n",
       "      <td>0</td>\n",
       "    </tr>\n",
       "    <tr>\n",
       "      <th>...</th>\n",
       "      <td>...</td>\n",
       "      <td>...</td>\n",
       "    </tr>\n",
       "    <tr>\n",
       "      <th>1575</th>\n",
       "      <td>357.515299</td>\n",
       "      <td>0</td>\n",
       "    </tr>\n",
       "    <tr>\n",
       "      <th>1579</th>\n",
       "      <td>575.708800</td>\n",
       "      <td>0</td>\n",
       "    </tr>\n",
       "    <tr>\n",
       "      <th>1626</th>\n",
       "      <td>712.066274</td>\n",
       "      <td>0</td>\n",
       "    </tr>\n",
       "    <tr>\n",
       "      <th>1632</th>\n",
       "      <td>441.924117</td>\n",
       "      <td>0</td>\n",
       "    </tr>\n",
       "    <tr>\n",
       "      <th>1643</th>\n",
       "      <td>368.830351</td>\n",
       "      <td>0</td>\n",
       "    </tr>\n",
       "  </tbody>\n",
       "</table>\n",
       "<p>92 rows × 2 columns</p>\n",
       "</div>"
      ],
      "text/plain": [
       "      Reconstruction_error  True_class\n",
       "6               326.288641           0\n",
       "23              385.520368           0\n",
       "25              431.415621           0\n",
       "109             395.242326           0\n",
       "141            1093.242774           0\n",
       "...                    ...         ...\n",
       "1575            357.515299           0\n",
       "1579            575.708800           0\n",
       "1626            712.066274           0\n",
       "1632            441.924117           0\n",
       "1643            368.830351           0\n",
       "\n",
       "[92 rows x 2 columns]"
      ]
     },
     "execution_count": 14,
     "metadata": {},
     "output_type": "execute_result"
    }
   ],
   "source": [
    "test_x_predictions = autoencoder.predict(X_t)\n",
    "mse = np.mean(np.power(X_t - test_x_predictions, 2), axis=1)\n",
    "error_df = pd.DataFrame({'Reconstruction_error': mse,\n",
    "                        'True_class': y_t})\n",
    "error_df.loc[(error_df['True_class']==0)]"
   ]
  },
  {
   "cell_type": "markdown",
   "metadata": {
    "id": "rXH4PxARu-Lz"
   },
   "source": [
    "# New Section"
   ]
  },
  {
   "cell_type": "code",
   "execution_count": 15,
   "metadata": {
    "colab": {
     "base_uri": "https://localhost:8080/",
     "height": 441
    },
    "id": "gSvGk8USq2EN",
    "outputId": "eccfd803-d2b3-48f6-eec7-517842938964"
   },
   "outputs": [
    {
     "data": {
      "image/png": "[encoded data removed]",
      "text/plain": [
       "<Figure size 288x288 with 2 Axes>"
      ]
     },
     "metadata": {
      "needs_background": "light"
     },
     "output_type": "display_data"
    },
    {
     "name": "stdout",
     "output_type": "stream",
     "text": [
      " Accuracy:  0.9434306569343066\n",
      " Recall:  0.9993556701030928\n",
      " Precision:  0.9440048691418138\n"
     ]
    }
   ],
   "source": [
    "threshold_fixed =0.0004\n",
    "\n",
    "LABELS = [\"NOK\",\"OK\"]\n",
    "pred_y = [1 if e > threshold_fixed else 0 for e in error_df.Reconstruction_error.values]\n",
    "error_df['pred'] =pred_y\n",
    "conf_matrix = confusion_matrix(error_df.True_class, pred_y)\n",
    "plt.figure(figsize=(4, 4))\n",
    "sns.heatmap(conf_matrix, xticklabels=LABELS, yticklabels=LABELS, annot=True, fmt=\"d\");\n",
    "plt.title(\"Confusion matrix\")\n",
    "plt.ylabel('True class')\n",
    "plt.xlabel('Predicted class')\n",
    "plt.show()\n",
    "# print Accuracy, precision and recall\n",
    "print(\" Accuracy: \",accuracy_score(error_df['True_class'], error_df['pred']))\n",
    "print(\" Recall: \",recall_score(error_df['True_class'], error_df['pred']))\n",
    "print(\" Precision: \",precision_score(error_df['True_class'], error_df['pred']))"
   ]
  },
  {
   "cell_type": "code",
   "execution_count": 45,
   "metadata": {},
   "outputs": [
    {
     "data": {
      "image/png": "[encoded data removed]",
      "text/plain": [
       "<Figure size 432x288 with 1 Axes>"
      ]
     },
     "metadata": {
      "needs_background": "light"
     },
     "output_type": "display_data"
    }
   ],
   "source": [
    "groups = error_df.groupby('True_class')\n",
    "fig, ax = plt.subplots()\n",
    "for name, group in groups:\n",
    "    ax.plot(group.index, group.Reconstruction_error, marker='o', ms=3.5, linestyle='',\n",
    "            label= \"Normal\" if name == 1 else \"Anomaly\")\n",
    "ax.hlines(threshold_fixed, ax.get_xlim()[0], ax.get_xlim()[1], colors=\"r\", zorder=100, label='Threshold')\n",
    "ax.legend()\n",
    "plt.title(\"Reconstruction error for normal and abnormal data\")\n",
    "plt.ylabel(\"Reconstruction error\")\n",
    "plt.xlabel(\"Data point index\")\n",
    "plt.show();"
   ]
  },
  {
   "cell_type": "code",
   "execution_count": null,
   "metadata": {},
   "outputs": [],
   "source": []
  }
 ],
 "metadata": {
  "accelerator": "TPU",
  "colab": {
   "collapsed_sections": [],
   "name": "autoencoder.ipynb",
   "provenance": []
  },
  "kernelspec": {
   "display_name": "Python 3",
   "language": "python",
   "name": "python3"
  },
  "language_info": {
   "codemirror_mode": {
    "name": "ipython",
    "version": 3
   },
   "file_extension": ".py",
   "mimetype": "text/x-python",
   "name": "python",
   "nbconvert_exporter": "python",
   "pygments_lexer": "ipython3",
   "version": "3.6.13"
  }
 },
 "nbformat": 4,
 "nbformat_minor": 1
}
